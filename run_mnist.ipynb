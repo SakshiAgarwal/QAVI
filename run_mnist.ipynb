{
 "cells": [
  {
   "cell_type": "code",
   "execution_count": 1,
   "id": "aa6895ee-5d96-473b-83f0-d0cc5012635d",
   "metadata": {
    "collapsed": true,
    "jupyter": {
     "outputs_hidden": true
    },
    "tags": []
   },
   "outputs": [
    {
     "name": "stdout",
     "output_type": "stream",
     "text": [
      "Loaded from permuted data\n",
      "training set loaded\n",
      "pre-trained VAE loaded\n",
      "test set (rotating_half) loaded\n",
      "Loaded from permuted data\n",
      "1000\n",
      "1\n",
      "2\n",
      "3\n",
      "4\n",
      "5\n",
      "6\n",
      "7\n",
      "8\n",
      "9\n",
      "10\n",
      "11\n",
      "1000\n",
      "0 torch.Size([1, 1, 28, 28])\n",
      "0 7964.21630859375\n",
      "50 5418.6875\n",
      "100 5408.9091796875\n",
      "150 5399.38525390625\n",
      "200 5398.41552734375\n",
      "250 5413.31689453125\n",
      "[[        -inf]\n",
      " [262.55209351]\n",
      " [262.14663696]\n",
      " ...\n",
      " [449.85327148]\n",
      " [449.85317993]\n",
      " [449.85308838]]\n"
     ]
    },
    {
     "data": {
      "image/png": "[encoded data removed]",
      "text/plain": [
       "<Figure size 600x600 with 10 Axes>"
      ]
     },
     "metadata": {},
     "output_type": "display_data"
    },
    {
     "name": "stdout",
     "output_type": "stream",
     "text": [
      "0 torch.Size([1, 1, 28, 28])\n",
      "0 7147.8017578125\n",
      "50 4485.2451171875\n"
     ]
    },
    {
     "ename": "KeyboardInterrupt",
     "evalue": "",
     "output_type": "error",
     "traceback": [
      "\u001b[0;31m---------------------------------------------------------------------------\u001b[0m",
      "\u001b[0;31mKeyboardInterrupt\u001b[0m                         Traceback (most recent call last)",
      "\u001b[1;32m/home/sakshia1/myresearch/QAVI2/run_mnist.ipynb Cell 1\u001b[0m in \u001b[0;36m<cell line: 28>\u001b[0;34m()\u001b[0m\n\u001b[1;32m     <a href='vscode-notebook-cell://ssh-remote%2Bbird.ics.uci.edu/home/sakshia1/myresearch/QAVI2/run_mnist.ipynb#W0sdnNjb2RlLXJlbW90ZQ%3D%3D?line=25'>26</a>\u001b[0m test_data \u001b[39m=\u001b[39m dataset_loader(batch_size\u001b[39m=\u001b[39m\u001b[39m1\u001b[39m, miss_string\u001b[39m=\u001b[39mmiss_string, mode\u001b[39m=\u001b[39m\u001b[39m\"\u001b[39m\u001b[39mtest\u001b[39m\u001b[39m\"\u001b[39m)\n\u001b[1;32m     <a href='vscode-notebook-cell://ssh-remote%2Bbird.ics.uci.edu/home/sakshia1/myresearch/QAVI2/run_mnist.ipynb#W0sdnNjb2RlLXJlbW90ZQ%3D%3D?line=26'>27</a>\u001b[0m feat \u001b[39m=\u001b[39m Feat_QAVI(configs, test_data)\n\u001b[0;32m---> <a href='vscode-notebook-cell://ssh-remote%2Bbird.ics.uci.edu/home/sakshia1/myresearch/QAVI2/run_mnist.ipynb#W0sdnNjb2RlLXJlbW90ZQ%3D%3D?line=27'>28</a>\u001b[0m feat\u001b[39m.\u001b[39;49mshow_imputations(test_data, miss_string, feat_space\u001b[39m=\u001b[39;49m\u001b[39mTrue\u001b[39;49;00m)\n\u001b[1;32m     <a href='vscode-notebook-cell://ssh-remote%2Bbird.ics.uci.edu/home/sakshia1/myresearch/QAVI2/run_mnist.ipynb#W0sdnNjb2RlLXJlbW90ZQ%3D%3D?line=28'>29</a>\u001b[0m feat\u001b[39m.\u001b[39mevaluate(test_data, miss_string, feat_space\u001b[39m=\u001b[39m\u001b[39mTrue\u001b[39;00m)\n\u001b[1;32m     <a href='vscode-notebook-cell://ssh-remote%2Bbird.ics.uci.edu/home/sakshia1/myresearch/QAVI2/run_mnist.ipynb#W0sdnNjb2RlLXJlbW90ZQ%3D%3D?line=30'>31</a>\u001b[0m test_data \u001b[39m=\u001b[39m dataset_loader(batch_size\u001b[39m=\u001b[39m\u001b[39m100\u001b[39m, miss_string\u001b[39m=\u001b[39mmiss_string, mode\u001b[39m=\u001b[39m\u001b[39m\"\u001b[39m\u001b[39mtest\u001b[39m\u001b[39m\"\u001b[39m)\n",
      "File \u001b[0;32m~/myresearch/QAVI2/QAVI.py:174\u001b[0m, in \u001b[0;36mGaus_QAVI.show_imputations\u001b[0;34m(self, data_loader, m_type, feat_space)\u001b[0m\n\u001b[1;32m    171\u001b[0m b_mask \u001b[39m=\u001b[39m b_mask\u001b[39m.\u001b[39mcuda()\u001b[39m.\u001b[39mbool()\n\u001b[1;32m    172\u001b[0m b_full \u001b[39m=\u001b[39m b_full\u001b[39m.\u001b[39mcuda()\u001b[39m.\u001b[39mfloat()\n\u001b[0;32m--> 174\u001b[0m \u001b[39mif\u001b[39;00m \u001b[39mnot\u001b[39;00m read_only: params \u001b[39m=\u001b[39m \u001b[39mself\u001b[39;49m\u001b[39m.\u001b[39;49mtrain(\u001b[39mself\u001b[39;49m\u001b[39m.\u001b[39;49mconfigs\u001b[39m.\u001b[39;49mqavi\u001b[39m.\u001b[39;49miterations, \u001b[39mself\u001b[39;49m\u001b[39m.\u001b[39;49mconfigs\u001b[39m.\u001b[39;49mqavi\u001b[39m.\u001b[39;49mK, [b_data, b_mask, b_full], m_type) \n\u001b[1;32m    175\u001b[0m \u001b[39melse\u001b[39;00m: params \u001b[39m=\u001b[39m  \u001b[39mself\u001b[39m\u001b[39m.\u001b[39mget_params(b_data, b_mask, i, m_type)\n\u001b[1;32m    177\u001b[0m \u001b[39mif\u001b[39;00m i \u001b[39m==\u001b[39m (num_batches \u001b[39m-\u001b[39m \u001b[39m1\u001b[39m):\n",
      "File \u001b[0;32m~/myresearch/QAVI2/QAVI.py:134\u001b[0m, in \u001b[0;36mGaus_QAVI.train\u001b[0;34m(self, iterations, K, data, m_type)\u001b[0m\n\u001b[1;32m    132\u001b[0m mini_b_mask \u001b[39m=\u001b[39m jth_batch(b_mask, j, batches\u001b[39m/\u001b[39mK)\n\u001b[1;32m    133\u001b[0m mini_b_full \u001b[39m=\u001b[39m jth_batch(b_full, j, batches\u001b[39m/\u001b[39mK)\n\u001b[0;32m--> 134\u001b[0m params_batch, stats \u001b[39m=\u001b[39m \u001b[39mself\u001b[39;49m\u001b[39m.\u001b[39;49mtrain_mini_batch(iterations, K, [mini_b_data, mini_b_mask, mini_b_full])       \n\u001b[1;32m    136\u001b[0m \u001b[39mif\u001b[39;00m m_type \u001b[39mis\u001b[39;00m \u001b[39mnot\u001b[39;00m \u001b[39mNone\u001b[39;00m: s_file(\u001b[39mself\u001b[39m\u001b[39m.\u001b[39mfile_name \u001b[39m+\u001b[39m m_type \u001b[39m+\u001b[39m \u001b[39m\"\u001b[39m\u001b[39m/parameters.pkl\u001b[39m\u001b[39m\"\u001b[39m, params_batch, \u001b[39m\"\u001b[39m\u001b[39mab+\u001b[39m\u001b[39m\"\u001b[39m) \n\u001b[1;32m    138\u001b[0m loss_batch \u001b[39m+\u001b[39m\u001b[39m=\u001b[39m  stats[\u001b[39m0\u001b[39m]        \n",
      "File \u001b[0;32m~/myresearch/QAVI2/QAVI.py:105\u001b[0m, in \u001b[0;36mGaus_QAVI.train_mini_batch\u001b[0;34m(self, iterations, K, data_args)\u001b[0m\n\u001b[1;32m    103\u001b[0m \u001b[39mif\u001b[39;00m k \u001b[39m==\u001b[39m \u001b[39mint\u001b[39m(\u001b[39m2\u001b[39m\u001b[39m*\u001b[39miterations\u001b[39m/\u001b[39m\u001b[39m3\u001b[39m): params, optimizers, schedulers \u001b[39m=\u001b[39m \u001b[39mself\u001b[39m\u001b[39m.\u001b[39mphase_two(params, optimizers, schedulers, k)\n\u001b[1;32m    104\u001b[0m \u001b[39mfor\u001b[39;00m opt \u001b[39min\u001b[39;00m optimizers: opt\u001b[39m.\u001b[39mzero_grad()\n\u001b[0;32m--> 105\u001b[0m loss_ \u001b[39m=\u001b[39m \u001b[39mself\u001b[39;49m\u001b[39m.\u001b[39;49mloss(data_, mask_, params, K)\n\u001b[1;32m    106\u001b[0m loss_[\u001b[39m\"\u001b[39m\u001b[39mloss\u001b[39m\u001b[39m\"\u001b[39m]\u001b[39m.\u001b[39mbackward()\n\u001b[1;32m    108\u001b[0m \u001b[39mfor\u001b[39;00m opt \u001b[39min\u001b[39;00m optimizers: opt\u001b[39m.\u001b[39mstep()\n",
      "File \u001b[0;32m~/myresearch/QAVI2/QAVI.py:414\u001b[0m, in \u001b[0;36mFeat_QAVI.loss\u001b[0;34m(self, b_data, b_mask, params, K)\u001b[0m\n\u001b[1;32m    412\u001b[0m \u001b[39mif\u001b[39;00m \u001b[39mself\u001b[39m\u001b[39m.\u001b[39mconfigs\u001b[39m.\u001b[39mdist\u001b[39m.\u001b[39mdata \u001b[39m==\u001b[39m \u001b[39m\"\u001b[39m\u001b[39mContBernoulli\u001b[39m\u001b[39m\"\u001b[39m:\n\u001b[1;32m    413\u001b[0m \t\u001b[39mfor\u001b[39;00m x \u001b[39min\u001b[39;00m params: \n\u001b[0;32m--> 414\u001b[0m \t\tq_entropy \u001b[39m+\u001b[39m\u001b[39m=\u001b[39m entropy(x) \n\u001b[1;32m    415\u001b[0m \u001b[39melse\u001b[39;00m:\n\u001b[1;32m    416\u001b[0m \tq_entropy \u001b[39m=\u001b[39m torch\u001b[39m.\u001b[39msum(q_xm\u001b[39m.\u001b[39mentropy())\n",
      "File \u001b[0;32m~/myresearch/QAVI2/utils.py:103\u001b[0m, in \u001b[0;36mentropy\u001b[0;34m(x)\u001b[0m\n\u001b[1;32m    101\u001b[0m \u001b[39mdef\u001b[39;00m \u001b[39mentropy\u001b[39m(x):\n\u001b[1;32m    102\u001b[0m     \u001b[39mif\u001b[39;00m torch\u001b[39m.\u001b[39mis_nonzero(x) : \n\u001b[0;32m--> 103\u001b[0m         \u001b[39mreturn\u001b[39;00m \u001b[39m1\u001b[39;49m \u001b[39m-\u001b[39;49m  x\u001b[39m/\u001b[39;49m(\u001b[39m1\u001b[39;49m\u001b[39m-\u001b[39;49mtorch\u001b[39m.\u001b[39;49mexp(\u001b[39m-\u001b[39;49mx)) \u001b[39m-\u001b[39m torch\u001b[39m.\u001b[39mlog(x\u001b[39m/\u001b[39m(torch\u001b[39m.\u001b[39mexp(x)\u001b[39m-\u001b[39m\u001b[39m1\u001b[39m)) \n\u001b[1;32m    104\u001b[0m     \u001b[39melse\u001b[39;00m :\n\u001b[1;32m    105\u001b[0m         \u001b[39mreturn\u001b[39;00m torch\u001b[39m.\u001b[39mtensor(\u001b[39m0\u001b[39m)\u001b[39m.\u001b[39mcuda()\u001b[39m.\u001b[39mfloat()\n",
      "File \u001b[0;32m~/.conda/envs/r2/lib/python3.9/site-packages/torch/_tensor.py:31\u001b[0m, in \u001b[0;36m_wrap_type_error_to_not_implemented.<locals>.wrapped\u001b[0;34m(*args, **kwargs)\u001b[0m\n\u001b[1;32m     29\u001b[0m     \u001b[39mreturn\u001b[39;00m handle_torch_function(wrapped, args, \u001b[39m*\u001b[39margs, \u001b[39m*\u001b[39m\u001b[39m*\u001b[39mkwargs)\n\u001b[1;32m     30\u001b[0m \u001b[39mtry\u001b[39;00m:\n\u001b[0;32m---> 31\u001b[0m     \u001b[39mreturn\u001b[39;00m f(\u001b[39m*\u001b[39;49margs, \u001b[39m*\u001b[39;49m\u001b[39m*\u001b[39;49mkwargs)\n\u001b[1;32m     32\u001b[0m \u001b[39mexcept\u001b[39;00m \u001b[39mTypeError\u001b[39;00m:\n\u001b[1;32m     33\u001b[0m     \u001b[39mreturn\u001b[39;00m \u001b[39mNotImplemented\u001b[39m\n",
      "File \u001b[0;32m~/.conda/envs/r2/lib/python3.9/site-packages/torch/_tensor.py:604\u001b[0m, in \u001b[0;36mTensor.__rsub__\u001b[0;34m(self, other)\u001b[0m\n\u001b[1;32m    602\u001b[0m \u001b[39mif\u001b[39;00m has_torch_function_variadic(\u001b[39mself\u001b[39m, other):\n\u001b[1;32m    603\u001b[0m     \u001b[39mreturn\u001b[39;00m handle_torch_function(Tensor\u001b[39m.\u001b[39m\u001b[39m__rsub__\u001b[39m, (\u001b[39mself\u001b[39m, other), \u001b[39mself\u001b[39m, other)\n\u001b[0;32m--> 604\u001b[0m \u001b[39mreturn\u001b[39;00m _C\u001b[39m.\u001b[39;49m_VariableFunctions\u001b[39m.\u001b[39;49mrsub(\u001b[39mself\u001b[39;49m, other)\n",
      "\u001b[0;31mKeyboardInterrupt\u001b[0m: "
     ]
    }
   ],
   "source": [
    "from models.vae import *\n",
    "from config import mnist_configs\n",
    "from QAVI import Gaus_QAVI, Mix_QAVI, Flow_QAVI, Feat_QAVI\n",
    "from data import *\n",
    "\n",
    "#Load configs from MNIST\n",
    "configs = mnist_configs()\n",
    "\n",
    "#Load fully-observed training data\n",
    "train_loader = dataset_loader()\n",
    "print(\"training set loaded\")\n",
    "\n",
    "#Load pre-trained VAE, train with training data if not available\n",
    "vae = load_baseVAE(\"mnist\", configs, train_loader)\n",
    "\n",
    "print(\"pre-trained VAE loaded\")\n",
    "\n",
    "#Load test loader for patches missing data\n",
    "miss_string = \"rotating_half\"\n",
    "print(\"test set (\" + miss_string + \") loaded\")\n",
    "\n",
    "#Create gaus object for inference with a Gaussian posterior\n",
    "'''\n",
    "Using Feat QAVI\n",
    "'''\n",
    "test_data = dataset_loader(batch_size=1, miss_string=miss_string, mode=\"test\")\n",
    "feat = Feat_QAVI(configs, test_data)\n",
    "feat.show_imputations(test_data, miss_string, feat_space=True)\n",
    "feat.evaluate(test_data, miss_string, feat_space=True)\n",
    "\n",
    "test_data = dataset_loader(batch_size=100, miss_string=miss_string, mode=\"test\")\n"
   ]
  },
  {
   "cell_type": "code",
   "execution_count": null,
   "id": "9e0a50f3",
   "metadata": {},
   "outputs": [],
   "source": [
    "\n",
    "'''\n",
    "Using Gaussian posterior\n",
    "'''\n",
    "gaus = Gaus_QAVI(configs, test_data)\n",
    "gaus.show_imputations(test_data, miss_string)\n",
    "gaus.evaluate(test_data, miss_string)"
   ]
  },
  {
   "cell_type": "code",
   "execution_count": null,
   "id": "982b4e02-5884-4217-a6dc-769d7cdac268",
   "metadata": {
    "tags": []
   },
   "outputs": [],
   "source": [
    "'''\n",
    "Using Flow posterior\n",
    "'''\n",
    "\n",
    "flow = Flow_QAVI(configs, test_data)\n",
    "flow.show_imputations(test_data, miss_string)\n",
    "flow.evaluate(test_data, miss_string)\n",
    "\n"
   ]
  },
  {
   "cell_type": "code",
   "execution_count": null,
   "id": "202f51d6-ee3a-4afd-8680-141b0c225687",
   "metadata": {},
   "outputs": [],
   "source": [
    "'''\n",
    "Using Mixture posterior\n",
    "'''\n",
    "\n",
    "mix = Mix_QAVI(configs, test_data)\n",
    "mix.show_imputations(test_data, miss_string)\n",
    "mix.evaluate(test_data, miss_string)"
   ]
  },
  {
   "cell_type": "code",
   "execution_count": null,
   "id": "0f497767-6f64-4526-a5da-3cfa054acf5b",
   "metadata": {},
   "outputs": [],
   "source": []
  },
  {
   "cell_type": "code",
   "execution_count": null,
   "id": "c670600a-99fa-4b64-90c5-f987c838df67",
   "metadata": {},
   "outputs": [],
   "source": [
    "import torch\n",
    "import numpy as np\n",
    "import matplotlib.pyplot as plt\n",
    "import pickle\n",
    "import os\n",
    "from models.vae import *\n",
    "from config import mnist_configs\n",
    "from data import *\n",
    "\n",
    "def show_images(b_data, b_mask=None):\n",
    "\t[batch_size, channels,p,q] = b_data.shape\n",
    "\tfig = plt.figure(figsize=(6, 6))\n",
    "\t# setting values to rows and column variables\n",
    "\trows = 2 #n_images\n",
    "\tcolumns = 2 #K imputations\n",
    "\tif b_mask is not None: b_data[~b_mask] = 0.5\n",
    "\n",
    "\tfor i in range(rows):\n",
    "\t\tfor j in range(columns):\n",
    "\t\t\tfig.add_subplot(rows, columns, i*columns + j +1)\n",
    "\t\t\t# showing image\n",
    "\t\t\ta = np.squeeze(b_data[i*columns + j].cpu().data.numpy().reshape(1,1,28,28))\n",
    "\n",
    "\t\t\tplt.imshow(a, cmap='gray', vmin=0, vmax=1)         \n",
    "\n",
    "\t#if b_mask is None: plt.savefig(\"true.pdf\")\n",
    "\t#else: plt.savefig(\"miss.pdf\")\n",
    "\n",
    "\tplt.show()\n",
    "\tplt.close()\n",
    "    \n",
    "#Load configs from MNIST\n",
    "configs = mnist_configs()\n",
    "\n",
    "#Load fully-observed training data\n",
    "train_loader = dataset_loader()\n",
    "print(\"training set loaded\")\n",
    "\n",
    "#Load pre-trained VAE, train with training data if not available\n",
    "vae = load_baseVAE(\"mnist\", configs, train_loader)\n",
    "miss_string = \"random\"\n",
    "test_data = dataset_loader(batch_size=4, miss_string=miss_string, mode=\"test\")\n",
    "\n",
    "for i, data in enumerate(test_data): \n",
    "\tb_data, b_mask, b_full = data[0:3]\n",
    "\tb_data = b_data.cuda().float()\n",
    "\tb_mask = b_mask.cuda().bool()\n",
    "\tb_full = b_full.cuda().float()\n",
    "\tshow_images(b_data, b_mask)\n",
    "\tshow_images(b_full)\n",
    "\texit()\n",
    "\n",
    "    "
   ]
  },
  {
   "cell_type": "code",
   "execution_count": null,
   "id": "97e7d96e-bfef-41fd-8511-3b88436760a7",
   "metadata": {},
   "outputs": [],
   "source": []
  }
 ],
 "metadata": {
  "kernelspec": {
   "display_name": "Python 3 (ipykernel)",
   "language": "python",
   "name": "python3"
  },
  "language_info": {
   "codemirror_mode": {
    "name": "ipython",
    "version": 3
   },
   "file_extension": ".py",
   "mimetype": "text/x-python",
   "name": "python",
   "nbconvert_exporter": "python",
   "pygments_lexer": "ipython3",
   "version": "3.9.11"
  }
 },
 "nbformat": 4,
 "nbformat_minor": 5
}
